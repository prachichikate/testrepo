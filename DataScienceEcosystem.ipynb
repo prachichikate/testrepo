{
 "cells": [
  {
   "cell_type": "markdown",
   "id": "10bd0625-2760-4bf5-aff9-af560ffb4271",
   "metadata": {},
   "source": [
    "<h1>Data Science Tools and Ecosystem</h1>"
   ]
  },
  {
   "cell_type": "markdown",
   "id": "4a59652a-a08e-4457-87f0-af6d4095995d",
   "metadata": {},
   "source": [
    "In this notebook, Data Science Tools and Ecosystem are summarized."
   ]
  },
  {
   "cell_type": "markdown",
   "id": "88809361-c504-4f25-8de3-8b7fed8bc2e3",
   "metadata": {
    "tags": []
   },
   "source": [
    "<span style=\"font-weight:bold;\">Objectives:</span>\n",
    "<ul>\n",
    "    <li>Jupyter Notebook is a browser-based application that allows you to create and share documents containing code, equations, visualizations, narrative text links, and more.</li>\n",
    "     <li>Jupyter Notebook allows a Data Scientist to record their data experiments and results that others can reuse.</li>\n",
    "     <li>It is compatible with several file formats like CSV, JSON, PDF, Vega, and so on. And it is also an open source.</li>\n",
    "     <li>Jupyter Lab is compatible with many files and Data Science languages like Python, R, SQL,etc</li>\n",
    "<ul>"
   ]
  },
  {
   "cell_type": "markdown",
   "id": "e25feefc-32ca-43ed-9dc4-372c8a681bc7",
   "metadata": {
    "tags": []
   },
   "source": [
    "Some of the popular languages that Data Scientists use are:\n",
    "<ol>\n",
    "    <li>Python</li>\n",
    "    <li>R</li>\n",
    "    <li>SQL</li>\n",
    "    <li>Javascript</li>\n",
    "</ol>"
   ]
  },
  {
   "cell_type": "markdown",
   "id": "f435c42b-ed88-4609-93cb-53dc21167a9a",
   "metadata": {},
   "source": [
    "Some of the commonly used libraries used by Data Scientists include:"
   ]
  },
  {
   "cell_type": "markdown",
   "id": "b43e1426-39c9-4fd9-9d2d-d33134eebeec",
   "metadata": {},
   "source": [
    "<ol>\n",
    "    <li>Sigma.js</li>\n",
    "    <li>D3.js</li>\n",
    "    <li>Chart.js</li>\n",
    "    <li>Tidy.js</li>\n",
    "</ol>"
   ]
  },
  {
   "cell_type": "markdown",
   "id": "51d2b96e-10a8-46f1-ac31-65813d7ad5aa",
   "metadata": {},
   "source": [
    "<table align=\"left\">\n",
    "    <tr>\n",
    "        <th>Data Science Tools</th>\n",
    "    </tr>\n",
    "        <td>JuputerLab</td>\n",
    "    <tr>\n",
    "        <td>Visual Studio Code</td>\n",
    "    </tr>\n",
    "    <tr>\n",
    "        <td>Spyder</td>\n",
    "    </tr>\n",
    "    <tr>\n",
    "        <td>Atom</td>\n",
    "    </tr>\n",
    "    <tr>\n",
    "    </tr>\n",
    "        \n",
    "</table>"
   ]
  },
  {
   "cell_type": "markdown",
   "id": "0be082b6-bb71-4f10-83d1-178065b47ebe",
   "metadata": {},
   "source": [
    "<h3>Below are a few examples of evaluating arithmetic expressions in Python</h3>"
   ]
  },
  {
   "cell_type": "code",
   "execution_count": 1,
   "id": "9f9d8e7c-32c3-450f-9f64-8fb275a302fe",
   "metadata": {
    "tags": []
   },
   "outputs": [
    {
     "data": {
      "text/plain": [
       "17"
      ]
     },
     "execution_count": 1,
     "metadata": {},
     "output_type": "execute_result"
    }
   ],
   "source": [
    "# This a simple arithmetic expression to mutiply then add integers\n",
    "(3*4)+5"
   ]
  },
  {
   "cell_type": "code",
   "execution_count": 2,
   "id": "2a73ff87-56bb-4e6b-b87e-e1c151723833",
   "metadata": {
    "tags": []
   },
   "outputs": [
    {
     "data": {
      "text/plain": [
       "3.3333333333333335"
      ]
     },
     "execution_count": 2,
     "metadata": {},
     "output_type": "execute_result"
    }
   ],
   "source": [
    "# This will convert 200 minutes to hours by diving by 60\n",
    "200/60"
   ]
  },
  {
   "cell_type": "markdown",
   "id": "68ccaf88-245d-4798-a84c-3414cbf027ba",
   "metadata": {
    "tags": []
   },
   "source": [
    "<h2>Author</h2>\n",
    "Prachi Chikate"
   ]
  }
 ],
 "metadata": {
  "kernelspec": {
   "display_name": "Python",
   "language": "python",
   "name": "conda-env-python-py"
  },
  "language_info": {
   "codemirror_mode": {
    "name": "ipython",
    "version": 3
   },
   "file_extension": ".py",
   "mimetype": "text/x-python",
   "name": "python",
   "nbconvert_exporter": "python",
   "pygments_lexer": "ipython3",
   "version": "3.7.12"
  }
 },
 "nbformat": 4,
 "nbformat_minor": 5
}
